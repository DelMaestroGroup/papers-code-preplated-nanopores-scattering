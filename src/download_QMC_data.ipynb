{
 "cells": [
  {
   "cell_type": "markdown",
   "id": "b2a699db-1dfd-476a-b37c-8976e927a7ce",
   "metadata": {},
   "source": [
    "## Download QMC Data\n",
    "\n",
    "The raw (unprocessed) QMC data can be found online at:\n",
    "\n",
    "[![DOI](https://zenodo.org/badge/DOI/10.5281/zenodo.6012499.svg)](https://doi.org/10.5281/zenodo.6012499)\n",
    "\n",
    "While the processed/reduced data files necessary for producing all plots are included in the repository at `../data/QMC` run the code below to download the data for local processing via the `pimcscripts` module.\n",
    "\n",
    "Requires installation of the [zenodo_get](https://github.com/dvolgyes/zenodo_get/) package."
   ]
  },
  {
   "cell_type": "code",
   "execution_count": null,
   "id": "dbed29f1-24a9-4bbc-9f77-f9a8ce51937c",
   "metadata": {},
   "outputs": [],
   "source": [
    "qmc_data_dir = '../data/QMC/'\n",
    "!zenodo_get --doi=0.5281/zenodo.6012499 --output-dir=${qmc_data_dir}\n",
    "!tar -xjf {qmc_data_dir}/QMC_raw_data.tar.bz2 -C {qmc_data_dir}"
   ]
  }
 ],
 "metadata": {
  "kernelspec": {
   "display_name": "Python 3 (ipykernel)",
   "language": "python",
   "name": "python3"
  },
  "language_info": {
   "codemirror_mode": {
    "name": "ipython",
    "version": 3
   },
   "file_extension": ".py",
   "mimetype": "text/x-python",
   "name": "python",
   "nbconvert_exporter": "python",
   "pygments_lexer": "ipython3",
   "version": "3.9.6"
  }
 },
 "nbformat": 4,
 "nbformat_minor": 5
}
